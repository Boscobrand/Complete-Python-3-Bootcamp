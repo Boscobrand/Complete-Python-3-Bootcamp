{
 "cells": [
  {
   "cell_type": "code",
   "execution_count": 1,
   "metadata": {},
   "outputs": [
    {
     "ename": "NameError",
     "evalue": "name 'Q1' is not defined",
     "output_type": "error",
     "traceback": [
      "\u001b[1;31m---------------------------------------------------------------------------\u001b[0m",
      "\u001b[1;31mNameError\u001b[0m                                 Traceback (most recent call last)",
      "\u001b[1;32m<ipython-input-1-69d8c29d4c07>\u001b[0m in \u001b[0;36m<module>\u001b[1;34m\u001b[0m\n\u001b[1;32m----> 1\u001b[1;33m \u001b[0mmy_list\u001b[0m\u001b[1;33m=\u001b[0m\u001b[1;33m[\u001b[0m\u001b[0mQ1\u001b[0m\u001b[1;33m,\u001b[0m\u001b[0mQ2\u001b[0m\u001b[1;33m,\u001b[0m\u001b[0mQ3\u001b[0m\u001b[1;33m]\u001b[0m\u001b[1;33m\u001b[0m\u001b[1;33m\u001b[0m\u001b[0m\n\u001b[0m",
      "\u001b[1;31mNameError\u001b[0m: name 'Q1' is not defined"
     ]
    }
   ],
   "source": [
    "my_list=[Q1,Q2,Q3]"
   ]
  },
  {
   "cell_type": "code",
   "execution_count": null,
   "metadata": {},
   "outputs": [],
   "source": [
    "Q1 = input(\"What is your name?   \")"
   ]
  },
  {
   "cell_type": "code",
   "execution_count": null,
   "metadata": {},
   "outputs": [],
   "source": [
    "Q2 = input(\"Where do you live?   \")"
   ]
  },
  {
   "cell_type": "code",
   "execution_count": null,
   "metadata": {},
   "outputs": [],
   "source": [
    "Q3 = input('Shall we play a game?   ')"
   ]
  },
  {
   "cell_type": "code",
   "execution_count": null,
   "metadata": {},
   "outputs": [],
   "source": [
    "print(my_list)"
   ]
  },
  {
   "cell_type": "code",
   "execution_count": null,
   "metadata": {},
   "outputs": [],
   "source": [
    "my_list.append(input)"
   ]
  },
  {
   "cell_type": "code",
   "execution_count": null,
   "metadata": {},
   "outputs": [],
   "source": [
    "input(\"what is your name?   \")"
   ]
  },
  {
   "cell_type": "code",
   "execution_count": null,
   "metadata": {},
   "outputs": [],
   "source": [
    "input(\"where do you live?   \")"
   ]
  },
  {
   "cell_type": "code",
   "execution_count": null,
   "metadata": {},
   "outputs": [],
   "source": [
    "input(\"Shall we play a game?   \")"
   ]
  },
  {
   "cell_type": "code",
   "execution_count": 22,
   "metadata": {},
   "outputs": [],
   "source": [
    "responses=[]"
   ]
  },
  {
   "cell_type": "code",
   "execution_count": 23,
   "metadata": {},
   "outputs": [],
   "source": [
    "def survey():\n",
    "    i=input\n",
    "    t=tuple()\n",
    "    for x in range (0, 11):\n",
    "        input(\"What is your name?   \")\n",
    "        input(\"Where do you live?   \")\n",
    "        input(\"Shall we play a game?   \")\n",
    "        responses.append(i)\n",
    "        print(\"Great!  Don't call me, I'll call you. Next player please!\")\n",
    "    t+=(i,)"
   ]
  },
  {
   "cell_type": "code",
   "execution_count": 24,
   "metadata": {},
   "outputs": [
    {
     "name": "stdout",
     "output_type": "stream",
     "text": [
      "What is your name?   Tony\n",
      "Where do you live?   Stamford\n",
      "Shall we play a game?   Yes\n",
      "Great!  Don't call me, I'll call you. Next player please!\n",
      "What is your name?   Ruth\n",
      "Where do you live?   Stamford\n",
      "Shall we play a game?   yes\n",
      "Great!  Don't call me, I'll call you. Next player please!\n",
      "What is your name?   Anthony\n",
      "Where do you live?   Stamford\n",
      "Shall we play a game?   Yes\n",
      "Great!  Don't call me, I'll call you. Next player please!\n",
      "What is your name?   julianna\n",
      "Where do you live?   Stamford\n",
      "Shall we play a game?   Yes\n",
      "Great!  Don't call me, I'll call you. Next player please!\n",
      "What is your name?   John \n",
      "Where do you live?   Stamford \n",
      "Shall we play a game?   no\n",
      "Great!  Don't call me, I'll call you. Next player please!\n",
      "What is your name?   Liz\n",
      "Where do you live?   Stamford\n",
      "Shall we play a game?   no\n",
      "Great!  Don't call me, I'll call you. Next player please!\n",
      "What is your name?   Alex\n",
      "Where do you live?   Stamford\n",
      "Shall we play a game?   yes\n",
      "Great!  Don't call me, I'll call you. Next player please!\n",
      "What is your name?   Annie\n",
      "Where do you live?   Stamford\n",
      "Shall we play a game?   Yes\n",
      "Great!  Don't call me, I'll call you. Next player please!\n",
      "What is your name?   Rudra\n",
      "Where do you live?   Stamford\n",
      "Shall we play a game?   yes\n",
      "Great!  Don't call me, I'll call you. Next player please!\n",
      "What is your name?   Jack\n",
      "Where do you live?   Chelmsford\n",
      "Shall we play a game?   No\n",
      "Great!  Don't call me, I'll call you. Next player please!\n",
      "What is your name?   Matt\n",
      "Where do you live?   Chelmsford\n",
      "Shall we play a game?   Yes\n",
      "Great!  Don't call me, I'll call you. Next player please!\n"
     ]
    }
   ],
   "source": [
    "survey()"
   ]
  },
  {
   "cell_type": "code",
   "execution_count": 25,
   "metadata": {},
   "outputs": [
    {
     "data": {
      "text/plain": [
       "[<bound method Kernel.raw_input of <ipykernel.ipkernel.IPythonKernel object at 0x000001F29A760608>>,\n",
       " <bound method Kernel.raw_input of <ipykernel.ipkernel.IPythonKernel object at 0x000001F29A760608>>,\n",
       " <bound method Kernel.raw_input of <ipykernel.ipkernel.IPythonKernel object at 0x000001F29A760608>>,\n",
       " <bound method Kernel.raw_input of <ipykernel.ipkernel.IPythonKernel object at 0x000001F29A760608>>,\n",
       " <bound method Kernel.raw_input of <ipykernel.ipkernel.IPythonKernel object at 0x000001F29A760608>>,\n",
       " <bound method Kernel.raw_input of <ipykernel.ipkernel.IPythonKernel object at 0x000001F29A760608>>,\n",
       " <bound method Kernel.raw_input of <ipykernel.ipkernel.IPythonKernel object at 0x000001F29A760608>>,\n",
       " <bound method Kernel.raw_input of <ipykernel.ipkernel.IPythonKernel object at 0x000001F29A760608>>,\n",
       " <bound method Kernel.raw_input of <ipykernel.ipkernel.IPythonKernel object at 0x000001F29A760608>>,\n",
       " <bound method Kernel.raw_input of <ipykernel.ipkernel.IPythonKernel object at 0x000001F29A760608>>,\n",
       " <bound method Kernel.raw_input of <ipykernel.ipkernel.IPythonKernel object at 0x000001F29A760608>>]"
      ]
     },
     "execution_count": 25,
     "metadata": {},
     "output_type": "execute_result"
    }
   ],
   "source": [
    "responses"
   ]
  },
  {
   "cell_type": "code",
   "execution_count": null,
   "metadata": {},
   "outputs": [],
   "source": []
  }
 ],
 "metadata": {
  "kernelspec": {
   "display_name": "Python 3",
   "language": "python",
   "name": "python3"
  },
  "language_info": {
   "codemirror_mode": {
    "name": "ipython",
    "version": 3
   },
   "file_extension": ".py",
   "mimetype": "text/x-python",
   "name": "python",
   "nbconvert_exporter": "python",
   "pygments_lexer": "ipython3",
   "version": "3.7.4"
  }
 },
 "nbformat": 4,
 "nbformat_minor": 2
}
