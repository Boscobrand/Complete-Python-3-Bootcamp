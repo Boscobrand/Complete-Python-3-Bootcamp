{
 "cells": [
  {
   "cell_type": "code",
   "execution_count": 1,
   "metadata": {},
   "outputs": [],
   "source": [
    "x = 25\n",
    "\n",
    "def printer():\n",
    "    x = 50\n",
    "    return x"
   ]
  },
  {
   "cell_type": "code",
   "execution_count": 2,
   "metadata": {},
   "outputs": [
    {
     "name": "stdout",
     "output_type": "stream",
     "text": [
      "25\n"
     ]
    }
   ],
   "source": [
    "print(x)"
   ]
  },
  {
   "cell_type": "code",
   "execution_count": 3,
   "metadata": {},
   "outputs": [
    {
     "name": "stdout",
     "output_type": "stream",
     "text": [
      "50\n"
     ]
    }
   ],
   "source": [
    "print(printer())"
   ]
  },
  {
   "cell_type": "code",
   "execution_count": 4,
   "metadata": {},
   "outputs": [],
   "source": [
    "#scope allows python to understand order\n",
    "#LEGB RULE"
   ]
  },
  {
   "cell_type": "code",
   "execution_count": 5,
   "metadata": {},
   "outputs": [
    {
     "data": {
      "text/plain": [
       "<function __main__.<lambda>(num)>"
      ]
     },
     "execution_count": 5,
     "metadata": {},
     "output_type": "execute_result"
    }
   ],
   "source": [
    "#Local variable num example\n",
    "#num is local to this lambda expression\n",
    "#lambda num:num**2\n"
   ]
  },
  {
   "cell_type": "code",
   "execution_count": 8,
   "metadata": {},
   "outputs": [],
   "source": [
    "#enclosing function locals\n",
    "name = 'THIS IS A GLOBAL STRING'\n",
    "\n",
    "def greet():\n",
    "    name = 'Sammy'\n",
    "    \n",
    "    def hello():\n",
    "        print('Hello ' +name)\n",
    "        \n",
    "    hello()\n",
    "    \n"
   ]
  },
  {
   "cell_type": "code",
   "execution_count": 9,
   "metadata": {},
   "outputs": [
    {
     "name": "stdout",
     "output_type": "stream",
     "text": [
      "Hello Sammy\n"
     ]
    }
   ],
   "source": [
    "#when you call greet, calling and executing the greet function, assigns name, defines function hello and executes hello\n",
    "#the local names space is defined within the function (an enclosing function local)\n",
    "#when you comment out Sammy, it will revert out and seek globally and name becomes THIS IS A GLOBAL STRING \n",
    "greet()"
   ]
  },
  {
   "cell_type": "code",
   "execution_count": 31,
   "metadata": {},
   "outputs": [
    {
     "data": {
      "text/plain": [
       "<function len(obj, /)>"
      ]
     },
     "execution_count": 31,
     "metadata": {},
     "output_type": "execute_result"
    }
   ],
   "source": [
    "len"
   ]
  },
  {
   "cell_type": "code",
   "execution_count": 32,
   "metadata": {},
   "outputs": [],
   "source": [
    "x = 50\n",
    "\n",
    "def func(x):\n",
    "    print(f'X is {x}')\n",
    "    \n",
    "    #LOCAL REASSIGNMENT\n",
    "    x=200\n",
    "    print(f'I JUST LOCALLY CHANGED X TO {x}')\n",
    "    \n",
    "# this won't affect anything above a higher scope, scope wont be able to extend out to another level"
   ]
  },
  {
   "cell_type": "code",
   "execution_count": 33,
   "metadata": {},
   "outputs": [
    {
     "name": "stdout",
     "output_type": "stream",
     "text": [
      "X is 50\n",
      "I JUST LOCALLY CHANGED X TO 200\n"
     ]
    }
   ],
   "source": [
    "func(x)"
   ]
  },
  {
   "cell_type": "code",
   "execution_count": 34,
   "metadata": {},
   "outputs": [],
   "source": [
    "x = 50\n",
    "\n",
    "def func():\n",
    "    global x\n",
    "    print(f'X is {x}')\n",
    "    \n",
    "    x='NEW VALUE'\n",
    "    print(f'I JUST LOCALLY CHANGED GLOBAL X TO {x}')\n",
    "    return x\n",
    "    \n"
   ]
  },
  {
   "cell_type": "code",
   "execution_count": 35,
   "metadata": {},
   "outputs": [
    {
     "name": "stdout",
     "output_type": "stream",
     "text": [
      "50\n"
     ]
    }
   ],
   "source": [
    "print(x)"
   ]
  },
  {
   "cell_type": "code",
   "execution_count": 38,
   "metadata": {},
   "outputs": [
    {
     "name": "stdout",
     "output_type": "stream",
     "text": [
      "X is 50\n",
      "I JUST LOCALLY CHANGED GLOBAL X TO NEW VALUE\n"
     ]
    },
    {
     "data": {
      "text/plain": [
       "'NEW VALUE'"
      ]
     },
     "execution_count": 38,
     "metadata": {},
     "output_type": "execute_result"
    }
   ],
   "source": [
    "func()"
   ]
  },
  {
   "cell_type": "code",
   "execution_count": 39,
   "metadata": {},
   "outputs": [],
   "source": [
    "#avoid global keyword unless absolutely neccessary"
   ]
  },
  {
   "cell_type": "code",
   "execution_count": 41,
   "metadata": {},
   "outputs": [],
   "source": [
    "x = 50\n",
    "\n",
    "def func(x):\n",
    "\n",
    "    print(f'X is {x}')\n",
    "    \n",
    "    x='NEW VALUE'\n",
    "    print(f'I JUST LOCALLY CHANGED GLOBAL X TO {x}')\n",
    "    return x\n",
    "    \n"
   ]
  },
  {
   "cell_type": "code",
   "execution_count": 42,
   "metadata": {},
   "outputs": [
    {
     "name": "stdout",
     "output_type": "stream",
     "text": [
      "X is 50\n",
      "I JUST LOCALLY CHANGED GLOBAL X TO NEW VALUE\n"
     ]
    }
   ],
   "source": [
    "x = func(x)"
   ]
  },
  {
   "cell_type": "code",
   "execution_count": null,
   "metadata": {},
   "outputs": [],
   "source": []
  }
 ],
 "metadata": {
  "kernelspec": {
   "display_name": "Python 3",
   "language": "python",
   "name": "python3"
  },
  "language_info": {
   "codemirror_mode": {
    "name": "ipython",
    "version": 3
   },
   "file_extension": ".py",
   "mimetype": "text/x-python",
   "name": "python",
   "nbconvert_exporter": "python",
   "pygments_lexer": "ipython3",
   "version": "3.7.4"
  }
 },
 "nbformat": 4,
 "nbformat_minor": 2
}
